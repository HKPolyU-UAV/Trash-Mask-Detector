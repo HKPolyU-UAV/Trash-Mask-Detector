{
 "cells": [
  {
   "cell_type": "markdown",
   "id": "62b9b78a",
   "metadata": {},
   "source": [
    "# First Equation\n",
    "\n",
    "Let us now implement the following equation:\n",
    "\n",
    "$$ y = x^2 $$\n",
    "where $x = 2$"
   ]
  },
  {
   "cell_type": "code",
   "execution_count": 1,
   "id": "de103f02",
   "metadata": {},
   "outputs": [
    {
     "name": "stdout",
     "output_type": "stream",
     "text": [
      "4\n"
     ]
    }
   ],
   "source": [
    "x = 2\n",
    "y = x**2\n",
    "print(y)"
   ]
  }
 ],
 "metadata": {
  "kernelspec": {
   "display_name": "Python 3",
   "language": "python",
   "name": "python3"
  },
  "language_info": {
   "codemirror_mode": {
    "name": "ipython",
    "version": 3
   },
   "file_extension": ".py",
   "mimetype": "text/x-python",
   "name": "python",
   "nbconvert_exporter": "python",
   "pygments_lexer": "ipython3",
   "version": "3.6.9"
  }
 },
 "nbformat": 4,
 "nbformat_minor": 5
}
